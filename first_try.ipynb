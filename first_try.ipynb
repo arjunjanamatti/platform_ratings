{
 "cells": [
  {
   "cell_type": "code",
   "execution_count": 16,
   "metadata": {},
   "outputs": [],
   "source": [
    "import pandas as pd\n",
    "import numpy as np\n",
    "import matplotlib.pyplot as plt"
   ]
  },
  {
   "cell_type": "markdown",
   "metadata": {},
   "source": [
    "### Load dataset"
   ]
  },
  {
   "cell_type": "code",
   "execution_count": 31,
   "metadata": {},
   "outputs": [
    {
     "name": "stdout",
     "output_type": "stream",
     "text": [
      "Shape of the dataframe:  (979, 3)\n"
     ]
    },
    {
     "data": {
      "text/html": [
       "<div>\n",
       "<style scoped>\n",
       "    .dataframe tbody tr th:only-of-type {\n",
       "        vertical-align: middle;\n",
       "    }\n",
       "\n",
       "    .dataframe tbody tr th {\n",
       "        vertical-align: top;\n",
       "    }\n",
       "\n",
       "    .dataframe thead th {\n",
       "        text-align: right;\n",
       "    }\n",
       "</style>\n",
       "<table border=\"1\" class=\"dataframe\">\n",
       "  <thead>\n",
       "    <tr style=\"text-align: right;\">\n",
       "      <th></th>\n",
       "      <th>reviewBody</th>\n",
       "      <th>stars</th>\n",
       "      <th>platform</th>\n",
       "    </tr>\n",
       "    <tr>\n",
       "      <th>date_posted</th>\n",
       "      <th></th>\n",
       "      <th></th>\n",
       "      <th></th>\n",
       "    </tr>\n",
       "  </thead>\n",
       "  <tbody>\n",
       "    <tr>\n",
       "      <th>04/13/2020</th>\n",
       "      <td>Full on make a buck . Good is ok.</td>\n",
       "      <td>3.0</td>\n",
       "      <td>Google</td>\n",
       "    </tr>\n",
       "    <tr>\n",
       "      <th>09/06/2019</th>\n",
       "      <td>Great happy hour food nice service atmosphere ...</td>\n",
       "      <td>2.0</td>\n",
       "      <td>Google</td>\n",
       "    </tr>\n",
       "    <tr>\n",
       "      <th>09/29/2018</th>\n",
       "      <td>What can I say about Brixx and Barley? How abo...</td>\n",
       "      <td>5.0</td>\n",
       "      <td>Yelp</td>\n",
       "    </tr>\n",
       "    <tr>\n",
       "      <th>01/06/2020</th>\n",
       "      <td>I asked for a vegan burger patty and got MEATB...</td>\n",
       "      <td>2.0</td>\n",
       "      <td>Seamless</td>\n",
       "    </tr>\n",
       "    <tr>\n",
       "      <th>10/16/2018</th>\n",
       "      <td>One of the few bars/restaurants that have live...</td>\n",
       "      <td>5.0</td>\n",
       "      <td>Google</td>\n",
       "    </tr>\n",
       "  </tbody>\n",
       "</table>\n",
       "</div>"
      ],
      "text/plain": [
       "                                                    reviewBody  stars  \\\n",
       "date_posted                                                             \n",
       "04/13/2020                   Full on make a buck . Good is ok.    3.0   \n",
       "09/06/2019   Great happy hour food nice service atmosphere ...    2.0   \n",
       "09/29/2018   What can I say about Brixx and Barley? How abo...    5.0   \n",
       "01/06/2020   I asked for a vegan burger patty and got MEATB...    2.0   \n",
       "10/16/2018   One of the few bars/restaurants that have live...    5.0   \n",
       "\n",
       "             platform  \n",
       "date_posted            \n",
       "04/13/2020     Google  \n",
       "09/06/2019     Google  \n",
       "09/29/2018       Yelp  \n",
       "01/06/2020   Seamless  \n",
       "10/16/2018     Google  "
      ]
     },
     "execution_count": 31,
     "metadata": {},
     "output_type": "execute_result"
    }
   ],
   "source": [
    "raw_file = pd.read_excel('Brixx-and-Barley-Long-Beach-New-York.xlsx', index_col = 2)\n",
    "print('Shape of the dataframe: ', raw_file.shape)\n",
    "raw_file.head()"
   ]
  },
  {
   "cell_type": "markdown",
   "metadata": {},
   "source": [
    "### Convert the index to datetimeindex"
   ]
  },
  {
   "cell_type": "code",
   "execution_count": 32,
   "metadata": {},
   "outputs": [
    {
     "data": {
      "text/plain": [
       "DatetimeIndex(['2020-04-13', '2019-09-06', '2018-09-29', '2020-01-06',\n",
       "               '2018-10-16', '2018-09-23', '2017-10-07', '2019-02-18',\n",
       "               '2020-07-01', '2018-10-12',\n",
       "               ...\n",
       "               '2020-06-24', '2016-09-30', '2019-11-24', '2016-09-19',\n",
       "               '2019-10-01', '2020-04-12', '2017-10-04', '2018-12-24',\n",
       "               '2019-10-11', '2015-10-14'],\n",
       "              dtype='datetime64[ns]', name='date_posted', length=979, freq=None)"
      ]
     },
     "execution_count": 32,
     "metadata": {},
     "output_type": "execute_result"
    }
   ],
   "source": [
    "raw_file.index = pd.DatetimeIndex(data = raw_file.index)\n",
    "raw_file.index"
   ]
  },
  {
   "cell_type": "markdown",
   "metadata": {},
   "source": [
    "### Get average star ratings for each platform for each year"
   ]
  },
  {
   "cell_type": "code",
   "execution_count": 33,
   "metadata": {},
   "outputs": [],
   "source": [
    "yerly_grouped_result = raw_file.groupby(by = ['platform', raw_file.index.year]).mean()"
   ]
  },
  {
   "cell_type": "code",
   "execution_count": 34,
   "metadata": {},
   "outputs": [
    {
     "data": {
      "text/html": [
       "<div>\n",
       "<style scoped>\n",
       "    .dataframe tbody tr th:only-of-type {\n",
       "        vertical-align: middle;\n",
       "    }\n",
       "\n",
       "    .dataframe tbody tr th {\n",
       "        vertical-align: top;\n",
       "    }\n",
       "\n",
       "    .dataframe thead th {\n",
       "        text-align: right;\n",
       "    }\n",
       "</style>\n",
       "<table border=\"1\" class=\"dataframe\">\n",
       "  <thead>\n",
       "    <tr style=\"text-align: right;\">\n",
       "      <th></th>\n",
       "      <th></th>\n",
       "      <th>stars</th>\n",
       "    </tr>\n",
       "    <tr>\n",
       "      <th>platform</th>\n",
       "      <th>date_posted</th>\n",
       "      <th></th>\n",
       "    </tr>\n",
       "  </thead>\n",
       "  <tbody>\n",
       "    <tr>\n",
       "      <th rowspan=\"7\" valign=\"top\">Facebook</th>\n",
       "      <th>2014</th>\n",
       "      <td>5.000000</td>\n",
       "    </tr>\n",
       "    <tr>\n",
       "      <th>2015</th>\n",
       "      <td>4.266667</td>\n",
       "    </tr>\n",
       "    <tr>\n",
       "      <th>2016</th>\n",
       "      <td>4.523810</td>\n",
       "    </tr>\n",
       "    <tr>\n",
       "      <th>2017</th>\n",
       "      <td>4.295775</td>\n",
       "    </tr>\n",
       "    <tr>\n",
       "      <th>2018</th>\n",
       "      <td>4.393939</td>\n",
       "    </tr>\n",
       "    <tr>\n",
       "      <th>2019</th>\n",
       "      <td>5.000000</td>\n",
       "    </tr>\n",
       "    <tr>\n",
       "      <th>2020</th>\n",
       "      <td>5.000000</td>\n",
       "    </tr>\n",
       "    <tr>\n",
       "      <th rowspan=\"7\" valign=\"top\">Google</th>\n",
       "      <th>2014</th>\n",
       "      <td>5.000000</td>\n",
       "    </tr>\n",
       "    <tr>\n",
       "      <th>2015</th>\n",
       "      <td>4.428571</td>\n",
       "    </tr>\n",
       "    <tr>\n",
       "      <th>2016</th>\n",
       "      <td>3.285714</td>\n",
       "    </tr>\n",
       "    <tr>\n",
       "      <th>2017</th>\n",
       "      <td>3.772727</td>\n",
       "    </tr>\n",
       "    <tr>\n",
       "      <th>2018</th>\n",
       "      <td>4.270833</td>\n",
       "    </tr>\n",
       "    <tr>\n",
       "      <th>2019</th>\n",
       "      <td>4.250000</td>\n",
       "    </tr>\n",
       "    <tr>\n",
       "      <th>2020</th>\n",
       "      <td>3.625000</td>\n",
       "    </tr>\n",
       "    <tr>\n",
       "      <th>Grubhub</th>\n",
       "      <th>2020</th>\n",
       "      <td>3.971429</td>\n",
       "    </tr>\n",
       "    <tr>\n",
       "      <th rowspan=\"2\" valign=\"top\">Seamless</th>\n",
       "      <th>2019</th>\n",
       "      <td>2.250000</td>\n",
       "    </tr>\n",
       "    <tr>\n",
       "      <th>2020</th>\n",
       "      <td>3.608696</td>\n",
       "    </tr>\n",
       "    <tr>\n",
       "      <th rowspan=\"6\" valign=\"top\">Yelp</th>\n",
       "      <th>2015</th>\n",
       "      <td>2.333333</td>\n",
       "    </tr>\n",
       "    <tr>\n",
       "      <th>2016</th>\n",
       "      <td>3.750000</td>\n",
       "    </tr>\n",
       "    <tr>\n",
       "      <th>2017</th>\n",
       "      <td>3.581081</td>\n",
       "    </tr>\n",
       "    <tr>\n",
       "      <th>2018</th>\n",
       "      <td>3.626016</td>\n",
       "    </tr>\n",
       "    <tr>\n",
       "      <th>2019</th>\n",
       "      <td>3.529412</td>\n",
       "    </tr>\n",
       "    <tr>\n",
       "      <th>2020</th>\n",
       "      <td>3.814815</td>\n",
       "    </tr>\n",
       "  </tbody>\n",
       "</table>\n",
       "</div>"
      ],
      "text/plain": [
       "                         stars\n",
       "platform date_posted          \n",
       "Facebook 2014         5.000000\n",
       "         2015         4.266667\n",
       "         2016         4.523810\n",
       "         2017         4.295775\n",
       "         2018         4.393939\n",
       "         2019         5.000000\n",
       "         2020         5.000000\n",
       "Google   2014         5.000000\n",
       "         2015         4.428571\n",
       "         2016         3.285714\n",
       "         2017         3.772727\n",
       "         2018         4.270833\n",
       "         2019         4.250000\n",
       "         2020         3.625000\n",
       "Grubhub  2020         3.971429\n",
       "Seamless 2019         2.250000\n",
       "         2020         3.608696\n",
       "Yelp     2015         2.333333\n",
       "         2016         3.750000\n",
       "         2017         3.581081\n",
       "         2018         3.626016\n",
       "         2019         3.529412\n",
       "         2020         3.814815"
      ]
     },
     "execution_count": 34,
     "metadata": {},
     "output_type": "execute_result"
    }
   ],
   "source": [
    "yerly_grouped_result"
   ]
  },
  {
   "cell_type": "code",
   "execution_count": 47,
   "metadata": {},
   "outputs": [
    {
     "data": {
      "image/png": "[encoded data removed]",
      "text/plain": [
       "<Figure size 720x432 with 1 Axes>"
      ]
     },
     "metadata": {
      "needs_background": "light"
     },
     "output_type": "display_data"
    }
   ],
   "source": [
    "raw_file.groupby(by = [ raw_file.index.year, 'platform']).mean().unstack().plot.bar(figsize = (10,6))\n",
    "plt.xlabel('Years')\n",
    "plt.ylabel('Star Ratings')\n",
    "plt.title(' Average star ratings each year for paltforms ')\n",
    "plt.show()"
   ]
  },
  {
   "cell_type": "code",
   "execution_count": null,
   "metadata": {},
   "outputs": [],
   "source": []
  }
 ],
 "metadata": {
  "kernelspec": {
   "display_name": "Python 3",
   "language": "python",
   "name": "python3"
  },
  "language_info": {
   "codemirror_mode": {
    "name": "ipython",
    "version": 3
   },
   "file_extension": ".py",
   "mimetype": "text/x-python",
   "name": "python",
   "nbconvert_exporter": "python",
   "pygments_lexer": "ipython3",
   "version": "3.7.6"
  }
 },
 "nbformat": 4,
 "nbformat_minor": 4
}
