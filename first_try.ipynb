{
 "cells": [
  {
   "cell_type": "code",
   "execution_count": 1,
   "metadata": {},
   "outputs": [],
   "source": [
    "import pandas as pd\n",
    "import numpy as np\n",
    "import matplotlib.pyplot as plt"
   ]
  },
  {
   "cell_type": "markdown",
   "metadata": {},
   "source": [
    "### Load dataset"
   ]
  },
  {
   "cell_type": "code",
   "execution_count": 2,
   "metadata": {},
   "outputs": [
    {
     "name": "stdout",
     "output_type": "stream",
     "text": [
      "Shape of the dataframe:  (979, 3)\n"
     ]
    },
    {
     "data": {
      "text/html": [
       "<div>\n",
       "<style scoped>\n",
       "    .dataframe tbody tr th:only-of-type {\n",
       "        vertical-align: middle;\n",
       "    }\n",
       "\n",
       "    .dataframe tbody tr th {\n",
       "        vertical-align: top;\n",
       "    }\n",
       "\n",
       "    .dataframe thead th {\n",
       "        text-align: right;\n",
       "    }\n",
       "</style>\n",
       "<table border=\"1\" class=\"dataframe\">\n",
       "  <thead>\n",
       "    <tr style=\"text-align: right;\">\n",
       "      <th></th>\n",
       "      <th>reviewBody</th>\n",
       "      <th>stars</th>\n",
       "      <th>platform</th>\n",
       "    </tr>\n",
       "    <tr>\n",
       "      <th>date_posted</th>\n",
       "      <th></th>\n",
       "      <th></th>\n",
       "      <th></th>\n",
       "    </tr>\n",
       "  </thead>\n",
       "  <tbody>\n",
       "    <tr>\n",
       "      <th>04/13/2020</th>\n",
       "      <td>Full on make a buck . Good is ok.</td>\n",
       "      <td>3.0</td>\n",
       "      <td>Google</td>\n",
       "    </tr>\n",
       "    <tr>\n",
       "      <th>09/06/2019</th>\n",
       "      <td>Great happy hour food nice service atmosphere ...</td>\n",
       "      <td>2.0</td>\n",
       "      <td>Google</td>\n",
       "    </tr>\n",
       "    <tr>\n",
       "      <th>09/29/2018</th>\n",
       "      <td>What can I say about Brixx and Barley? How abo...</td>\n",
       "      <td>5.0</td>\n",
       "      <td>Yelp</td>\n",
       "    </tr>\n",
       "    <tr>\n",
       "      <th>01/06/2020</th>\n",
       "      <td>I asked for a vegan burger patty and got MEATB...</td>\n",
       "      <td>2.0</td>\n",
       "      <td>Seamless</td>\n",
       "    </tr>\n",
       "    <tr>\n",
       "      <th>10/16/2018</th>\n",
       "      <td>One of the few bars/restaurants that have live...</td>\n",
       "      <td>5.0</td>\n",
       "      <td>Google</td>\n",
       "    </tr>\n",
       "  </tbody>\n",
       "</table>\n",
       "</div>"
      ],
      "text/plain": [
       "                                                    reviewBody  stars  \\\n",
       "date_posted                                                             \n",
       "04/13/2020                   Full on make a buck . Good is ok.    3.0   \n",
       "09/06/2019   Great happy hour food nice service atmosphere ...    2.0   \n",
       "09/29/2018   What can I say about Brixx and Barley? How abo...    5.0   \n",
       "01/06/2020   I asked for a vegan burger patty and got MEATB...    2.0   \n",
       "10/16/2018   One of the few bars/restaurants that have live...    5.0   \n",
       "\n",
       "             platform  \n",
       "date_posted            \n",
       "04/13/2020     Google  \n",
       "09/06/2019     Google  \n",
       "09/29/2018       Yelp  \n",
       "01/06/2020   Seamless  \n",
       "10/16/2018     Google  "
      ]
     },
     "execution_count": 2,
     "metadata": {},
     "output_type": "execute_result"
    }
   ],
   "source": [
    "raw_file = pd.read_excel('Brixx-and-Barley-Long-Beach-New-York.xlsx', index_col = 2)\n",
    "print('Shape of the dataframe: ', raw_file.shape)\n",
    "raw_file.head()"
   ]
  },
  {
   "cell_type": "markdown",
   "metadata": {},
   "source": [
    "### Convert the index to datetimeindex"
   ]
  },
  {
   "cell_type": "code",
   "execution_count": null,
   "metadata": {},
   "outputs": [],
   "source": [
    "raw_file.index = pd.DatetimeIndex(data = raw_file.index)\n",
    "raw_file.index"
   ]
  },
  {
   "cell_type": "markdown",
   "metadata": {},
   "source": [
    "### Get average star ratings for each platform for each year"
   ]
  },
  {
   "cell_type": "code",
   "execution_count": null,
   "metadata": {},
   "outputs": [],
   "source": [
    "yerly_grouped_result = raw_file.groupby(by = ['platform', raw_file.index.year]).mean()"
   ]
  },
  {
   "cell_type": "code",
   "execution_count": null,
   "metadata": {},
   "outputs": [],
   "source": [
    "yerly_grouped_result"
   ]
  },
  {
   "cell_type": "markdown",
   "metadata": {},
   "source": [
    "### All platforms together"
   ]
  },
  {
   "cell_type": "code",
   "execution_count": null,
   "metadata": {},
   "outputs": [],
   "source": [
    "raw_file.groupby(by = [ raw_file.index.year, 'platform']).mean().unstack().plot.bar(figsize = (10,6))\n",
    "plt.xlabel('Years')\n",
    "plt.ylabel('Star Ratings')\n",
    "plt.title(' Average star ratings each year for paltforms ')\n",
    "plt.show()"
   ]
  },
  {
   "cell_type": "markdown",
   "metadata": {},
   "source": [
    "### Individual platform ratings"
   ]
  },
  {
   "cell_type": "code",
   "execution_count": null,
   "metadata": {},
   "outputs": [],
   "source": [
    "unique_platforms = raw_file['platform'].unique()"
   ]
  },
  {
   "cell_type": "code",
   "execution_count": null,
   "metadata": {},
   "outputs": [],
   "source": [
    "for index, platform in enumerate(unique_platforms):\n",
    "    yerly_grouped_result.loc[unique_platforms[index],:].plot()\n",
    "    plt.title(unique_platforms[index])\n",
    "    plt.show()"
   ]
  },
  {
   "cell_type": "markdown",
   "metadata": {},
   "source": [
    "### Visualization of which years and months had the highest and lowest ratings"
   ]
  },
  {
   "cell_type": "code",
   "execution_count": null,
   "metadata": {},
   "outputs": [],
   "source": [
    "min_platform = raw_file.groupby(by = ['platform', raw_file.index.year, raw_file.index.month])['stars'].agg([min])\n",
    "max_platform = raw_file.groupby(by = ['platform', raw_file.index.year, raw_file.index.month])['stars'].agg([max])"
   ]
  },
  {
   "cell_type": "code",
   "execution_count": null,
   "metadata": {},
   "outputs": [],
   "source": [
    "def platform_min_max_monthwise(min_df, max_df, platform):\n",
    "    return pd.concat([min_df.loc[platform,:], max_df.loc[platform,:]], axis = 1)"
   ]
  },
  {
   "cell_type": "code",
   "execution_count": null,
   "metadata": {},
   "outputs": [],
   "source": [
    "name_platform = 'Facebook'\n",
    "yelp_min_max_per_month = platform_min_max_monthwise(min_df = min_platform,\n",
    "                                                        max_df = max_platform,\n",
    "                                                        platform = name_platform)\n",
    "yelp_min_max_per_month.plot(figsize = (10,7))\n",
    "plt.title('{} min and max ratings per month'.format(name_platform))"
   ]
  },
  {
   "cell_type": "code",
   "execution_count": null,
   "metadata": {},
   "outputs": [],
   "source": [
    "name_platform = 'Yelp'\n",
    "yelp_min_max_per_month = platform_min_max_monthwise(min_df = min_platform,\n",
    "                                                        max_df = max_platform,\n",
    "                                                        platform = name_platform)\n",
    "yelp_min_max_per_month.plot(figsize = (10,7))\n",
    "plt.title('{} min and max ratings per month'.format(name_platform))"
   ]
  },
  {
   "cell_type": "code",
   "execution_count": null,
   "metadata": {},
   "outputs": [],
   "source": [
    "name_platform = 'Google'\n",
    "yelp_min_max_per_month = platform_min_max_monthwise(min_df = min_platform,\n",
    "                                                        max_df = max_platform,\n",
    "                                                        platform = name_platform)\n",
    "yelp_min_max_per_month.plot(figsize = (10,7))\n",
    "plt.title('{} min and max ratings per month'.format(name_platform))"
   ]
  },
  {
   "cell_type": "code",
   "execution_count": null,
   "metadata": {},
   "outputs": [],
   "source": [
    "name_platform = 'Seamless'\n",
    "yelp_min_max_per_month = platform_min_max_monthwise(min_df = min_platform,\n",
    "                                                        max_df = max_platform,\n",
    "                                                        platform = name_platform)\n",
    "yelp_min_max_per_month.plot(figsize = (10,7))\n",
    "plt.title('{} min and max ratings per month'.format(name_platform))"
   ]
  },
  {
   "cell_type": "code",
   "execution_count": null,
   "metadata": {},
   "outputs": [],
   "source": [
    "name_platform = 'Grubhub'\n",
    "yelp_min_max_per_month = platform_min_max_monthwise(min_df = min_platform,\n",
    "                                                        max_df = max_platform,\n",
    "                                                        platform = name_platform)\n",
    "yelp_min_max_per_month.plot(figsize = (10,7))\n",
    "plt.title('{} min and max ratings per month'.format(name_platform))"
   ]
  },
  {
   "cell_type": "code",
   "execution_count": null,
   "metadata": {},
   "outputs": [],
   "source": []
  }
 ],
 "metadata": {
  "kernelspec": {
   "display_name": "Python 3",
   "language": "python",
   "name": "python3"
  },
  "language_info": {
   "codemirror_mode": {
    "name": "ipython",
    "version": 3
   },
   "file_extension": ".py",
   "mimetype": "text/x-python",
   "name": "python",
   "nbconvert_exporter": "python",
   "pygments_lexer": "ipython3",
   "version": "3.7.6"
  }
 },
 "nbformat": 4,
 "nbformat_minor": 4
}
